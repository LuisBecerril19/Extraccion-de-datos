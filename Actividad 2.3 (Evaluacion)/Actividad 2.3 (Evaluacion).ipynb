{
 "cells": [
  {
   "cell_type": "code",
   "execution_count": 2,
   "metadata": {},
   "outputs": [],
   "source": [
    "#Importamos librerias requeridas\n",
    "import pandas as pd\n",
    "import numpy as up\n",
    "import matplotlib.pyplot as pit\n",
    "import seaborn as sns"
   ]
  },
  {
   "cell_type": "code",
   "execution_count": null,
   "metadata": {},
   "outputs": [],
   "source": [
    "df = pd.read_excel(\"Girona.xlsx\")\n",
    "df"
   ]
  },
  {
   "cell_type": "code",
   "execution_count": null,
   "metadata": {},
   "outputs": [],
   "source": [
    "#Se fitran los registros de 5 host diferentes\n",
    "nombres = [\"Laura\", \"Marta\", \"Jordi\", \"Montse\", \"Alicia\"]\n",
    "filtroa = df[df[\"host_name\"].isin(nombres)]\n",
    "filtroa"
   ]
  },
  {
   "cell_type": "code",
   "execution_count": null,
   "metadata": {},
   "outputs": [],
   "source": [
    "#Se filtran los registros de los host que se unieron antes del 2019\n",
    "filtrob=df[(df[\"host_since\"] < \"01/01/2019\")]\n",
    "filtrob"
   ]
  },
  {
   "cell_type": "code",
   "execution_count": null,
   "metadata": {},
   "outputs": [],
   "source": [
    "#Se filtran los registros de los host que responden a mas tardar en 1 dia\n",
    "filtroc="
   ]
  },
  {
   "cell_type": "code",
   "execution_count": null,
   "metadata": {},
   "outputs": [],
   "source": [
    "home_tipe = [\"Private room\",  \"Entire home\"]\n",
    "filtroc = df[df[\"room_type\"].isin(home_tipe)]\n",
    "filtroc"
   ]
  },
  {
   "cell_type": "code",
   "execution_count": null,
   "metadata": {},
   "outputs": [],
   "source": [
    "filtrog = df[((df['bathrooms']==1)|(df['host_is_superhost']=='t'))&(df['instant_bookable']=='t')]\n",
    "filtrog"
   ]
  },
  {
   "cell_type": "code",
   "execution_count": null,
   "metadata": {},
   "outputs": [],
   "source": [
    "filtroh = df[(df['review_scores_cleanliness']<3)&(df['review_scores_rating']>3)]\n",
    "filtroh"
   ]
  }
 ],
 "metadata": {
  "kernelspec": {
   "display_name": "Python 3",
   "language": "python",
   "name": "python3"
  },
  "language_info": {
   "codemirror_mode": {
    "name": "ipython",
    "version": 3
   },
   "file_extension": ".py",
   "mimetype": "text/x-python",
   "name": "python",
   "nbconvert_exporter": "python",
   "pygments_lexer": "ipython3",
   "version": "3.13.1"
  }
 },
 "nbformat": 4,
 "nbformat_minor": 2
}
